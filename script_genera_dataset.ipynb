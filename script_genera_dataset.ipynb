{
 "cells": [
  {
   "cell_type": "code",
   "execution_count": 1,
   "id": "17f32b23",
   "metadata": {},
   "outputs": [],
   "source": [
    "import json\n",
    "import random"
   ]
  },
  {
   "cell_type": "code",
   "execution_count": 2,
   "id": "9e1de7f3",
   "metadata": {},
   "outputs": [],
   "source": [
    "example = {\n",
    "    \"id\": 1,\n",
    "    \"name\": \"Pippo\",\n",
    "    \"surname\": \"Pluto\",\n",
    "    \"date_of_birth\": \"18/03/2000\",\n",
    "    \"bank\": \"UniCredit\",\n",
    "    \"balance\": \"10000\"\n",
    "}\n",
    "\n",
    "list_name = ['Sofia', 'Matteo', 'Giuseppe', 'Isabella', 'Federico', 'Giulia', 'Carlo', 'Veronica', 'Luca', 'Aurora', 'Marco', 'Alessia', 'Davide', 'Martina', 'Antonio', 'Ginevra', 'Simone', 'Camilla', 'Francesco', 'Sara', 'Andrea', 'Ludovica', 'Gabriele', 'Valentina', 'Enrico', 'Elisa', 'Davide', 'Benedetta', 'Alberto', 'Chiara', 'Paolo', 'Beatrice', 'Daniele', 'Eleonora', 'Stefano', 'Emanuela', 'Roberto', 'Caterina', 'Fabio', 'Alice', 'Tommaso', 'Cristina', 'Leonardo', 'Gaia', 'Filippo', 'Francesca', 'Ivan', 'Laura', 'Edoardo', 'Marta', 'Giovanni', 'Sofia', 'Riccardo', 'Ludovica', 'Mauro', 'Eleonora', 'Pietro', 'Margherita', 'Vittorio', 'Giulia', 'Enrico', 'Martina', 'Marco', 'Aurora', 'Andrea', 'Veronica', 'Alessandro', 'Ilaria', 'Dario', 'Silvia', 'Luca', 'Anna', 'Matteo', 'Federica', 'Carlo', 'Ludovico', 'Chiara', 'Fabrizio', 'Elisa', 'Antonio', 'Sara', 'Emanuele', 'Valentina', 'Gabriele', 'Benedetta', 'Simone', 'Camilla', 'Francesco', 'Martina', 'Giuseppe', 'Ludovica', 'Davide', 'Veronica', 'Andrea', 'Aurora', 'Marco', 'Giulia', 'Federico', 'Isabella', 'Matteo']\n",
    "list_surname = [\"Rossi\", \"Bianchi\", \"Russo\", \"Esposito\", \"Ricci\", \"Ferrari\", \"Rizzo\", \"Romano\", \"Conti\", \"Santoro\", \"Marino\", \"Greco\", \"Neri\", \"Lombardi\", \"Bruno\", \"Moretti\", \"Costa\", \"Giordano\", \"Vitale\", \"Messina\", \"Farina\", \"Valenti\", \"Barbieri\", \"Serra\", \"Marini\", \"Caruso\", \"Lombardo\", \"Lombardi\", \"Gallo\", \"D'Angelo\", \"Pagano\", \"Ferrara\", \"Fabbri\", \"Monti\", \"Ferri\", \"Grasso\", \"Mancini\", \"Moretti\", \"Marchetti\", \"Cattaneo\", \"Costa\", \"Riva\", \"Ricciardi\", \"Pellegrini\", \"Amato\", \"Martini\", \"Basile\", \"De Luca\", \"Napolitano\", \"Fontana\", \"Carbone\", \"Grasso\", \"Bernardi\", \"Fabbiano\", \"Silvestri\", \"Palumbo\", \"Esposito\", \"Russo\", \"Colombo\", \"Sartori\", \"Donati\", \"Piras\", \"Bianco\", \"Coppola\", \"Rossetti\", \"Sanna\", \"Esposito\", \"Sorrentino\", \"Fontana\", \"Mazzoni\", \"Battaglia\", \"Serra\", \"Battaglia\", \"Pugliese\", \"Vitale\", \"Esposito\", \"Caruso\", \"Rizzo\", \"Ricci\", \"Marini\", \"De Rosa\", \"Marino\", \"Montanari\", \"Moretti\", \"Caruso\", \"Greco\", \"Ruggiero\", \"Ferretti\", \"Bianchi\", \"Giannini\", \"Giannini\", \"Rosso\", \"Basile\", \"Santoro\", \"De Angelis\", \"Ruggiero\", \"Pugliese\", \"Messina\", \"Barone\", \"Fontana\"]\n",
    "italian_banks = [\n",
    "    \"Intesa Sanpaolo\",\n",
    "    \"UniCredit\",\n",
    "    \"Banco BPM\",\n",
    "    \"Monte dei Paschi di Siena\",\n",
    "    \"UBI Banca\",\n",
    "    \"Banca Nazionale del Lavoro\",\n",
    "    \"Banca Generali\",\n",
    "    \"Mediobanca\",\n",
    "    \"Cassa Depositi e Prestiti\",\n",
    "    \"Banca Popolare di Sondrio\",\n",
    "    \"Banca Monte dei Paschi di Siena\",\n",
    "    \"Banca Carige\",\n",
    "    \"Banca Sella\",\n",
    "    \"Banca Popolare di Milano\",\n",
    "    \"Banca Mediolanum\",\n",
    "    \"Banca di Credito Cooperativo\",\n",
    "    \"Banca del Fucino\",\n",
    "    \"Banca Sella Holding\",\n",
    "    \"Banca Valsabbina\",\n",
    "    \"Banca di Imola\"\n",
    "]"
   ]
  },
  {
   "cell_type": "code",
   "execution_count": 3,
   "id": "1be603f6",
   "metadata": {},
   "outputs": [
    {
     "data": {
      "text/plain": [
       "list"
      ]
     },
     "execution_count": 3,
     "metadata": {},
     "output_type": "execute_result"
    }
   ],
   "source": [
    "banks = []\n",
    "type(banks)"
   ]
  },
  {
   "cell_type": "code",
   "execution_count": 9,
   "id": "e797e404",
   "metadata": {},
   "outputs": [],
   "source": [
    "for i in range(1, 1000001):\n",
    "    item = example.copy()\n",
    "    \n",
    "    rand_name = random.randint(0, 99)\n",
    "    rand_year = random.randint(1960, 2004)\n",
    "    rand_month = random.randint(1, 12)\n",
    "    rand_day = random.randint(1, 31)\n",
    "    rand_banca = random.randint(0,9)\n",
    "    rand_balance = random.randint(1000, 1000000)\n",
    "\n",
    "    item[\"id\"] = i\n",
    "    item[\"name\"] = list_name[rand_name]\n",
    "    item[\"surname\"] = list_surname[rand_name]\n",
    "    item[\"date_of_birth\"] = f\"{rand_day}/{rand_month}/{rand_year}\"\n",
    "    item[\"bank\"] = italian_banks[rand_banca]\n",
    "    item[\"balance\"] = rand_balance\n",
    "    \n",
    "    banks.append(item)"
   ]
  },
  {
   "cell_type": "code",
   "execution_count": 10,
   "id": "20ea5d8a",
   "metadata": {},
   "outputs": [],
   "source": [
    "with open(\"/home/studente/Desktop/project_mongo/doc_mongo/project_mongoDB/scripts/users1M.json\", \"w\") as outfile:\n",
    "    json.dump(banks, outfile)"
   ]
  },
  {
   "cell_type": "code",
   "execution_count": 14,
   "id": "85062c76",
   "metadata": {},
   "outputs": [
    {
     "data": {
      "text/plain": [
       "{'id': 1,\n",
       " 'name': 'Pippo',\n",
       " 'surname': 'Pluto',\n",
       " 'date_of_birth': '18/03/2000',\n",
       " 'bank': 'UniCredit',\n",
       " 'balance': '10000'}"
      ]
     },
     "execution_count": 14,
     "metadata": {},
     "output_type": "execute_result"
    }
   ],
   "source": [
    "example"
   ]
  }
 ],
 "metadata": {
  "kernelspec": {
   "display_name": "Python 3 (ipykernel)",
   "language": "python",
   "name": "python3"
  },
  "language_info": {
   "codemirror_mode": {
    "name": "ipython",
    "version": 3
   },
   "file_extension": ".py",
   "mimetype": "text/x-python",
   "name": "python",
   "nbconvert_exporter": "python",
   "pygments_lexer": "ipython3",
   "version": "3.7.3"
  }
 },
 "nbformat": 4,
 "nbformat_minor": 5
}
