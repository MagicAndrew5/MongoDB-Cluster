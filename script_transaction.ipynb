{
 "cells": [
  {
   "cell_type": "code",
   "execution_count": 1,
   "metadata": {},
   "outputs": [],
   "source": [
    "import pymongo\n",
    "from pymongo import MongoClient\n",
    "from pymongo.write_concern import WriteConcern"
   ]
  },
  {
   "cell_type": "code",
   "execution_count": 2,
   "metadata": {},
   "outputs": [],
   "source": [
    "# Connessione al server MongoDB\n",
    "client1 = MongoClient('mongodb://localhost:27117')\n",
    "client2 = MongoClient('mongodb://localhost:27117')\n",
    "\n",
    "# Imposta la write concern per entrambe le sessioni\n",
    "read_concern = pymongo.read_concern.ReadConcern(\"local\")\n",
    "write_concern = WriteConcern(w=1)\n",
    "\n",
    "trans = pymongo.client_session.TransactionOptions(read_concern = read_concern, write_concern = write_concern)\n",
    "\n",
    "# Avvia due sessioni\n",
    "session1 = client1.start_session(default_transaction_options=trans)\n",
    "session2 = client2.start_session(default_transaction_options=trans)"
   ]
  },
  {
   "cell_type": "code",
   "execution_count": 4,
   "metadata": {},
   "outputs": [
    {
     "name": "stdout",
     "output_type": "stream",
     "text": [
      "Lettura in T1:  {'_id': ObjectId('64a958a37db95684b99cf37f'), 'id': 299, 'name': 'Gaia', 'surname': 'Pellegrini', 'date_of_birth': '1/11/1985', 'bank': 'UBI Banca', 'balance': 700}\n",
      "Lettura in T2:  {'_id': ObjectId('64a958a37db95684b99cf37f'), 'id': 299, 'name': 'Gaia', 'surname': 'Pellegrini', 'date_of_birth': '1/11/1985', 'bank': 'UBI Banca', 'balance': 700}\n",
      "Transazione 1 committata\n",
      "Transazione 2 committata\n",
      "Lettura finale  {'_id': ObjectId('64a958a37db95684b99cf37f'), 'id': 299, 'name': 'Gaia', 'surname': 'Pellegrini', 'date_of_birth': '1/11/1985', 'bank': 'UBI Banca', 'balance': 900}\n"
     ]
    }
   ],
   "source": [
    "\n",
    "try:\n",
    "    # Avvia la transazione per la sessione 1\n",
    "    with session2.start_transaction(read_concern=read_concern, write_concern=write_concern) as s2, session1.start_transaction(read_concern=read_concern, write_concern=write_concern) as s1:\n",
    "        # Ottieni la collezione nella sessione 1\n",
    "        \n",
    "        collection1 = session1.client['db_bank']['bank']\n",
    "        collection2 = session2.client['db_bank']['bank']\n",
    "        \n",
    "        result1 = collection1.find_one({ 'id': 299  })\n",
    "        print(\"Lettura in T1: \", result1)\n",
    "\n",
    "        # Esegui l'operazione di modifica nella sessione 1\n",
    "        collection1.update_one(\n",
    "            {'_id': result1['_id']},\n",
    "            {'$inc': {'balance': 100}}, session = session1\n",
    "        )\n",
    "        \n",
    "         # Esegui l'operazione di lettura nella sessione 2\n",
    "        result2 = collection2.find_one({ 'id': 299  }, session = session2)\n",
    "        print(\"Lettura in T2: \",result2)\n",
    "        \n",
    "\n",
    "        session1.commit_transaction()\n",
    "        print(\"Transazione 1 committata\")\n",
    "\n",
    "        # Esegui l'operazione di modifica nella sessione 2\n",
    "        collection2.update_one(\n",
    "            {'_id': result2['_id']},\n",
    "            {'$inc': {'balance': 100}}, session = session2\n",
    "        )\n",
    "        \n",
    "        # Commit della transazione per la sessione 2\n",
    "        session2.commit_transaction()\n",
    "        print(\"Transazione 2 committata\")\n",
    "        \n",
    "    result2 = collection2.find_one({ 'id': 299  }, session = session2)\n",
    "    print(result2)\n",
    "\n",
    "except Exception as e:\n",
    "    # Esegui il rollback delle transazioni in caso di errore\n",
    "   # session1.abort_transaction()\n",
    "   # session2.abort_transaction()\n",
    "    collection2.update_one(\n",
    "            {'_id': result2['_id']},\n",
    "            {'$inc': {'balance': 100}}, session = session2\n",
    "        )\n",
    "    print(\"Transazione 2 committata\")\n",
    "    result2 = collection2.find_one({ 'id': 299  }, session = session2)\n",
    "    print(\"Lettura finale \", result2)\n",
    "\n",
    "finally:\n",
    "    # Chiudi le sessioni\n",
    "    session1.end_session()\n",
    "    session2.end_session()\n"
   ]
  },
  {
   "cell_type": "code",
   "execution_count": null,
   "metadata": {},
   "outputs": [],
   "source": []
  }
 ],
 "metadata": {
  "kernelspec": {
   "display_name": "Python 3 (ipykernel)",
   "language": "python",
   "name": "python3"
  },
  "language_info": {
   "codemirror_mode": {
    "name": "ipython",
    "version": 3
   },
   "file_extension": ".py",
   "mimetype": "text/x-python",
   "name": "python",
   "nbconvert_exporter": "python",
   "pygments_lexer": "ipython3",
   "version": "3.9.7"
  }
 },
 "nbformat": 4,
 "nbformat_minor": 2
}
